{
 "cells": [
  {
   "cell_type": "code",
   "execution_count": 5,
   "id": "3df6a893",
   "metadata": {},
   "outputs": [
    {
     "name": "stdout",
     "output_type": "stream",
     "text": [
      "my friend name is hari\n",
      "my friend name is harsha\n",
      "my friend name is varun\n",
      "my friend name is vamsi\n",
      "my friend name is lavanya\n",
      "my friend name is bhargavi\n"
     ]
    }
   ],
   "source": [
    "friends_names=[\"hari\",\"harsha\",\"varun\",\"vamsi\",\"lavanya\",\"bhargavi\"]\n",
    "for P in friends_names:\n",
    "    print(\"my friend name is\",P)"
   ]
  },
  {
   "cell_type": "code",
   "execution_count": 6,
   "id": "53d9e4bb",
   "metadata": {},
   "outputs": [
    {
     "name": "stdout",
     "output_type": "stream",
     "text": [
      "Father\n",
      "Mother\n",
      "Brother\n",
      "Sister\n",
      "Brother in law\n",
      "Mother in law\n",
      "Father in law\n"
     ]
    }
   ],
   "source": [
    "family_members=[\"Father\",\"Mother\",\"Brother\",\"Sister\",\"Brother in law\",\"Mother in law\",\"Father in law\"]\n",
    "for Q in family_members:\n",
    "    print(Q)"
   ]
  },
  {
   "cell_type": "code",
   "execution_count": 7,
   "id": "85983de7",
   "metadata": {},
   "outputs": [
    {
     "name": "stdout",
     "output_type": "stream",
     "text": [
      "panner\n",
      "mushroom\n",
      "aloo\n",
      "kaju\n",
      "baby corn\n"
     ]
    }
   ],
   "source": [
    "food_names=[\"panner\",\"mushroom\",\"aloo\",\"kaju\",\"baby corn\"]\n",
    "for R in food_names:\n",
    "    print(R)"
   ]
  },
  {
   "cell_type": "code",
   "execution_count": 9,
   "id": "596266cf",
   "metadata": {},
   "outputs": [
    {
     "name": "stdout",
     "output_type": "stream",
     "text": [
      "chicken roast biryani\n",
      "mutton dhum biryani\n",
      "fish fry\n",
      "prawns biryani\n",
      "chicken manchuria\n"
     ]
    }
   ],
   "source": [
    "food_names=(\"chicken roast biryani\",\"mutton dhum biryani\",\"fish fry\",\"prawns biryani\",\"chicken manchuria\")\n",
    "for S in food_names:\n",
    "    print(S)"
   ]
  },
  {
   "cell_type": "code",
   "execution_count": 10,
   "id": "7dbcf0d4",
   "metadata": {},
   "outputs": [
    {
     "name": "stdout",
     "output_type": "stream",
     "text": [
      "white\n",
      "voilet\n",
      "green\n",
      "black\n",
      "yellow\n",
      "orange\n",
      "red\n"
     ]
    }
   ],
   "source": [
    "colour_names={\"red\",\"black\",\"green\",\"white\",\"orange\",\"yellow\",\"voilet\"}\n",
    "for T in colour_names:\n",
    "    print(T)"
   ]
  },
  {
   "cell_type": "code",
   "execution_count": 11,
   "id": "27c8376c",
   "metadata": {},
   "outputs": [
    {
     "name": "stdout",
     "output_type": "stream",
     "text": [
      "January\n",
      "Febuary\n",
      "March\n",
      "April\n",
      "May\n",
      "June\n",
      "july\n",
      "August\n",
      "September\n",
      "October\n",
      "November\n",
      "December\n"
     ]
    }
   ],
   "source": [
    "month_names=[\"January\",\"Febuary\",\"March\",\"April\",\"May\",\"June\",\"july\",\"August\",\"September\",\"October\",\"November\",\"December\"]\n",
    "for U in month_names:\n",
    "    print(U)"
   ]
  },
  {
   "cell_type": "code",
   "execution_count": 2,
   "id": "f70ca38a",
   "metadata": {},
   "outputs": [
    {
     "name": "stdout",
     "output_type": "stream",
     "text": [
      "9\n",
      "18\n",
      "27\n",
      "36\n",
      "45\n",
      "54\n",
      "63\n",
      "72\n",
      "81\n",
      "90\n"
     ]
    }
   ],
   "source": [
    "for p in range(9,91,9):\n",
    "    print(p)"
   ]
  },
  {
   "cell_type": "code",
   "execution_count": 1,
   "id": "ca56cb3c",
   "metadata": {},
   "outputs": [
    {
     "name": "stdout",
     "output_type": "stream",
     "text": [
      "12\n",
      "24\n",
      "36\n",
      "48\n",
      "60\n",
      "72\n",
      "84\n",
      "96\n",
      "108\n",
      "120\n"
     ]
    }
   ],
   "source": [
    "for p in range(12,121,12):\n",
    "    print(p)"
   ]
  },
  {
   "cell_type": "code",
   "execution_count": null,
   "id": "cec2e567",
   "metadata": {},
   "outputs": [],
   "source": []
  },
  {
   "cell_type": "code",
   "execution_count": null,
   "id": "da5085e3",
   "metadata": {},
   "outputs": [],
   "source": []
  },
  {
   "cell_type": "code",
   "execution_count": null,
   "id": "1ab7ef29",
   "metadata": {},
   "outputs": [],
   "source": []
  }
 ],
 "metadata": {
  "kernelspec": {
   "display_name": "Python 3 (ipykernel)",
   "language": "python",
   "name": "python3"
  },
  "language_info": {
   "codemirror_mode": {
    "name": "ipython",
    "version": 3
   },
   "file_extension": ".py",
   "mimetype": "text/x-python",
   "name": "python",
   "nbconvert_exporter": "python",
   "pygments_lexer": "ipython3",
   "version": "3.10.9"
  }
 },
 "nbformat": 4,
 "nbformat_minor": 5
}
